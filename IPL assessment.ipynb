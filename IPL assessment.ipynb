{
 "cells": [
  {
   "cell_type": "markdown",
   "id": "8a48033f",
   "metadata": {},
   "source": [
    "# 1. Create a small data structure that holds details - Name of the team, points they have earned and result of last 5 matches as per image."
   ]
  },
  {
   "cell_type": "code",
   "execution_count": 1,
   "id": "b38358a5",
   "metadata": {},
   "outputs": [
    {
     "data": {
      "text/html": [
       "<div>\n",
       "<style scoped>\n",
       "    .dataframe tbody tr th:only-of-type {\n",
       "        vertical-align: middle;\n",
       "    }\n",
       "\n",
       "    .dataframe tbody tr th {\n",
       "        vertical-align: top;\n",
       "    }\n",
       "\n",
       "    .dataframe thead th {\n",
       "        text-align: right;\n",
       "    }\n",
       "</style>\n",
       "<table border=\"1\" class=\"dataframe\">\n",
       "  <thead>\n",
       "    <tr style=\"text-align: right;\">\n",
       "      <th></th>\n",
       "      <th>Teams</th>\n",
       "      <th>Pts</th>\n",
       "      <th>Last 5 Match</th>\n",
       "    </tr>\n",
       "  </thead>\n",
       "  <tbody>\n",
       "    <tr>\n",
       "      <th>GT</th>\n",
       "      <td>GT</td>\n",
       "      <td>20</td>\n",
       "      <td>[W, W, L, L, W]</td>\n",
       "    </tr>\n",
       "    <tr>\n",
       "      <th>LSG</th>\n",
       "      <td>LSG</td>\n",
       "      <td>18</td>\n",
       "      <td>[W, L, L, W, W]</td>\n",
       "    </tr>\n",
       "    <tr>\n",
       "      <th>RR</th>\n",
       "      <td>RR</td>\n",
       "      <td>16</td>\n",
       "      <td>[W, L, W, L, L]</td>\n",
       "    </tr>\n",
       "    <tr>\n",
       "      <th>DC</th>\n",
       "      <td>DC</td>\n",
       "      <td>14</td>\n",
       "      <td>[W, W, L, W, L]</td>\n",
       "    </tr>\n",
       "    <tr>\n",
       "      <th>RCB</th>\n",
       "      <td>RCB</td>\n",
       "      <td>14</td>\n",
       "      <td>[L, W, W, L, L]</td>\n",
       "    </tr>\n",
       "    <tr>\n",
       "      <th>KKR</th>\n",
       "      <td>KKR</td>\n",
       "      <td>12</td>\n",
       "      <td>[L, W, W, L, W]</td>\n",
       "    </tr>\n",
       "    <tr>\n",
       "      <th>PBKS</th>\n",
       "      <td>PBKS</td>\n",
       "      <td>12</td>\n",
       "      <td>[L, W, L, W, L]</td>\n",
       "    </tr>\n",
       "    <tr>\n",
       "      <th>SRH</th>\n",
       "      <td>SRH</td>\n",
       "      <td>12</td>\n",
       "      <td>[W, L, L, L, L]</td>\n",
       "    </tr>\n",
       "    <tr>\n",
       "      <th>CSK</th>\n",
       "      <td>CSK</td>\n",
       "      <td>8</td>\n",
       "      <td>[L, L, W, L, W]</td>\n",
       "    </tr>\n",
       "    <tr>\n",
       "      <th>MI</th>\n",
       "      <td>MI</td>\n",
       "      <td>6</td>\n",
       "      <td>[L, W, L, W, W]</td>\n",
       "    </tr>\n",
       "  </tbody>\n",
       "</table>\n",
       "</div>"
      ],
      "text/plain": [
       "     Teams Pts     Last 5 Match\n",
       "GT      GT  20  [W, W, L, L, W]\n",
       "LSG    LSG  18  [W, L, L, W, W]\n",
       "RR      RR  16  [W, L, W, L, L]\n",
       "DC      DC  14  [W, W, L, W, L]\n",
       "RCB    RCB  14  [L, W, W, L, L]\n",
       "KKR    KKR  12  [L, W, W, L, W]\n",
       "PBKS  PBKS  12  [L, W, L, W, L]\n",
       "SRH    SRH  12  [W, L, L, L, L]\n",
       "CSK    CSK   8  [L, L, W, L, W]\n",
       "MI      MI   6  [L, W, L, W, W]"
      ]
     },
     "execution_count": 1,
     "metadata": {},
     "output_type": "execute_result"
    }
   ],
   "source": [
    "import pandas as pd\n",
    "  \n",
    "# initialize data of teams.\n",
    "data = {\n",
    "   'GT':['GT',20,['W','W','L','L','W']]\n",
    "    \n",
    "   ,'LSG':['LSG',18,['W','L','L','W','W']]\n",
    "    \n",
    "   ,'RR':['RR',16,['W','L','W','L','L']]\n",
    "    \n",
    "    ,'DC':['DC',14,['W','W','L','W','L']]\n",
    "    \n",
    "    ,'RCB':['RCB',14,['L','W','W','L','L']]\n",
    "    \n",
    "    ,'KKR':['KKR',12,['L','W','W','L','W']]\n",
    "    \n",
    "    ,'PBKS':['PBKS',12,['L','W','L','W','L']]\n",
    "    \n",
    "    ,'SRH':['SRH',12,['W','L','L','L','L']]\n",
    "    \n",
    "    ,'CSK':['CSK',8,['L','L','W','L','W']]\n",
    "    \n",
    "    ,'MI':['MI',6,['L','W','L','W','W']]\n",
    "}\n",
    "\n",
    "# Create DataFrame\n",
    "df = pd.DataFrame(data, index = [\"Teams\", \"Pts\", \"Last 5 Match\"]).transpose()\n",
    "  \n",
    "# Print the output.\n",
    "df"
   ]
  },
  {
   "cell_type": "markdown",
   "id": "d9b55681",
   "metadata": {},
   "source": [
    "# 2. Programmatically retrieve the teams that have 2 consecutive losses."
   ]
  },
  {
   "cell_type": "code",
   "execution_count": 2,
   "id": "fed238fd",
   "metadata": {},
   "outputs": [],
   "source": [
    "def two_losses(team):\n",
    "    for result in range(len(team[-1])-1):  \n",
    "        if team[-1][result]==team[-1][result+1] and team[-1][result]=='L':    \n",
    "            return team[0]\n",
    "\n"
   ]
  },
  {
   "cell_type": "code",
   "execution_count": 3,
   "id": "d1d37a44",
   "metadata": {},
   "outputs": [
    {
     "name": "stdout",
     "output_type": "stream",
     "text": [
      "GT\n",
      "LSG\n",
      "RR\n",
      "RCB\n",
      "SRH\n",
      "CSK\n"
     ]
    }
   ],
   "source": [
    "for team in data.keys():\n",
    "    get_team=two_losses(data[team])\n",
    "    if get_team is not None:\n",
    "        print(get_team)"
   ]
  },
  {
   "cell_type": "markdown",
   "id": "926eab5c",
   "metadata": {},
   "source": [
    "# 3. Generalize the same solution, so that we could get teams that have n consecutive losses/wins."
   ]
  },
  {
   "cell_type": "code",
   "execution_count": 4,
   "id": "1c5a1a55",
   "metadata": {},
   "outputs": [],
   "source": [
    "def n_losses_or_wins(team,n):\n",
    "    for i in range(len(team[-1])-n+1):\n",
    "        if (team[-1][i:i+n]==['W']*n) or (team[-1][i:i+n]==['L']*n) :\n",
    "            return team[0]  "
   ]
  },
  {
   "cell_type": "code",
   "execution_count": 5,
   "id": "d33e5527",
   "metadata": {},
   "outputs": [
    {
     "name": "stdout",
     "output_type": "stream",
     "text": [
      "enter the valid  value of consecutive losses or wins: 2\n"
     ]
    }
   ],
   "source": [
    "Y=True\n",
    "while Y:\n",
    "    n=int(input('enter the valid  value of consecutive losses or wins: '))\n",
    "    if n>5:\n",
    "        continue\n",
    "    else:\n",
    "        Y=False\n",
    "\n"
   ]
  },
  {
   "cell_type": "code",
   "execution_count": 6,
   "id": "f66b9b16",
   "metadata": {},
   "outputs": [
    {
     "name": "stdout",
     "output_type": "stream",
     "text": [
      "GT\n",
      "LSG\n",
      "RR\n",
      "DC\n",
      "RCB\n",
      "KKR\n",
      "SRH\n",
      "CSK\n",
      "MI\n",
      "['GT', 'LSG', 'RR', 'DC', 'RCB', 'KKR', 'SRH', 'CSK', 'MI']\n"
     ]
    }
   ],
   "source": [
    "filtered_teams=[]\n",
    "for team in data.keys():\n",
    "    x=n_losses_or_wins(data[team],n)\n",
    "    if x is not None:\n",
    "        filtered_teams.append(x)\n",
    "        print(x)    \n",
    "print(filtered_teams)\n",
    "\n"
   ]
  },
  {
   "cell_type": "markdown",
   "id": "e05e8d20",
   "metadata": {},
   "source": [
    "# 4. Once the above is done, Calculate the average points of these filtered teams"
   ]
  },
  {
   "cell_type": "code",
   "execution_count": 8,
   "id": "f63a77a7",
   "metadata": {},
   "outputs": [
    {
     "name": "stdout",
     "output_type": "stream",
     "text": [
      "13.333333333333334\n"
     ]
    }
   ],
   "source": [
    "sum_of_points=0\n",
    "for team in filtered_teams:\n",
    "    sum_of_points+=data[team][1]\n",
    "average_points=sum_of_points/len(filtered_teams)\n",
    "print(average_points)"
   ]
  },
  {
   "cell_type": "code",
   "execution_count": null,
   "id": "fc9ae071",
   "metadata": {},
   "outputs": [],
   "source": []
  }
 ],
 "metadata": {
  "kernelspec": {
   "display_name": "Python 3 (ipykernel)",
   "language": "python",
   "name": "python3"
  },
  "language_info": {
   "codemirror_mode": {
    "name": "ipython",
    "version": 3
   },
   "file_extension": ".py",
   "mimetype": "text/x-python",
   "name": "python",
   "nbconvert_exporter": "python",
   "pygments_lexer": "ipython3",
   "version": "3.9.7"
  }
 },
 "nbformat": 4,
 "nbformat_minor": 5
}
